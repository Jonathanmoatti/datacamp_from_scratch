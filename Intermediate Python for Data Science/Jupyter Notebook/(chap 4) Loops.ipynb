{
 "cells": [
  {
   "cell_type": "code",
   "execution_count": 2,
   "metadata": {},
   "outputs": [
    {
     "name": "stdout",
     "output_type": "stream",
     "text": [
      "correcting...\n",
      "7\n",
      "correcting...\n",
      "6\n",
      "correcting...\n",
      "5\n",
      "correcting...\n",
      "4\n",
      "correcting...\n",
      "3\n",
      "correcting...\n",
      "2\n",
      "correcting...\n",
      "1\n",
      "correcting...\n",
      "0\n"
     ]
    }
   ],
   "source": [
    "# %load Chapter 4-Loops.py\n",
    "\n",
    "#Loops\n",
    "\n",
    "#Basic while loop\n",
    "\n",
    "# Initialize offset\n",
    "offset = 8\n",
    "\n",
    "# Code the while loop\n",
    "while offset != 0 :\n",
    "    print(\"correcting...\")\n",
    "    offset = offset - 1\n",
    "    print(offset)"
   ]
  },
  {
   "cell_type": "code",
   "execution_count": 3,
   "metadata": {},
   "outputs": [
    {
     "name": "stdout",
     "output_type": "stream",
     "text": [
      "correcting...\n",
      "-5\n",
      "correcting...\n",
      "-4\n",
      "correcting...\n",
      "-3\n",
      "correcting...\n",
      "-2\n",
      "correcting...\n",
      "-1\n",
      "correcting...\n",
      "0\n"
     ]
    }
   ],
   "source": [
    "#Add conditionals\n",
    "\n",
    "# Initialize offset\n",
    "offset = -6\n",
    "\n",
    "# Code the while loop\n",
    "while offset != 0 :\n",
    "    print(\"correcting...\")\n",
    "    if offset > 0 :\n",
    "        offset = offset - 1\n",
    "    else :\n",
    "        offset = offset + 1\n",
    "    print(offset)"
   ]
  },
  {
   "cell_type": "code",
   "execution_count": 4,
   "metadata": {},
   "outputs": [
    {
     "name": "stdout",
     "output_type": "stream",
     "text": [
      "11.25\n",
      "18.0\n",
      "20.0\n",
      "10.75\n",
      "9.5\n"
     ]
    }
   ],
   "source": [
    "#Loop over a list\n",
    "\n",
    "# areas list\n",
    "areas = [11.25, 18.0, 20.0, 10.75, 9.50]\n",
    "\n",
    "# Code the for loop\n",
    "for area in areas :\n",
    "    print(area)\n",
    "\n"
   ]
  },
  {
   "cell_type": "code",
   "execution_count": 5,
   "metadata": {},
   "outputs": [
    {
     "name": "stdout",
     "output_type": "stream",
     "text": [
      "room 0: 11.25\n",
      "room 1: 18.0\n",
      "room 2: 20.0\n",
      "room 3: 10.75\n",
      "room 4: 9.5\n"
     ]
    }
   ],
   "source": [
    "#Indexes and values (1)\n",
    "\n",
    "# areas list\n",
    "areas = [11.25, 18.0, 20.0, 10.75, 9.50]\n",
    "\n",
    "# Code the for loop\n",
    "for index, area in enumerate(areas) :\n",
    "    print(\"room \" + str(index) + \": \" + str(area))"
   ]
  },
  {
   "cell_type": "code",
   "execution_count": 6,
   "metadata": {},
   "outputs": [
    {
     "name": "stdout",
     "output_type": "stream",
     "text": [
      "room 1: 11.25\n",
      "room 2: 18.0\n",
      "room 3: 20.0\n",
      "room 4: 10.75\n",
      "room 5: 9.5\n"
     ]
    }
   ],
   "source": [
    "#Indexes and values (2)\n",
    "\n",
    "# areas list\n",
    "areas = [11.25, 18.0, 20.0, 10.75, 9.50]\n",
    "\n",
    "# Adapt the printout\n",
    "for index, area in enumerate(areas) :\n",
    "    print(\"room \" + str(index + 1) + \": \" + str(area))"
   ]
  },
  {
   "cell_type": "code",
   "execution_count": 7,
   "metadata": {},
   "outputs": [
    {
     "name": "stdout",
     "output_type": "stream",
     "text": [
      "the hallway is 11.25 sqm\n",
      "the kitchen is 18.0 sqm\n",
      "the living room is 20.0 sqm\n",
      "the bedroom is 10.75 sqm\n",
      "the bathroom is 9.5 sqm\n"
     ]
    }
   ],
   "source": [
    "#Loop over list of lists\n",
    "\n",
    "# house list of lists\n",
    "house = [[\"hallway\", 11.25], \n",
    "         [\"kitchen\", 18.0], \n",
    "         [\"living room\", 20.0], \n",
    "         [\"bedroom\", 10.75], \n",
    "         [\"bathroom\", 9.50]]\n",
    "         \n",
    "# Build a for loop from scratch\n",
    "for x in house :\n",
    "    print(\"the \" + str(x[0]) + \" is \" + str(x[1]) + \" sqm\")"
   ]
  },
  {
   "cell_type": "code",
   "execution_count": 9,
   "metadata": {},
   "outputs": [
    {
     "name": "stdout",
     "output_type": "stream",
     "text": [
      "the capital of spain is madrid\n",
      "the capital of france is paris\n",
      "the capital of germany is bonn\n",
      "the capital of norway is oslo\n",
      "the capital of italy is rome\n",
      "the capital of poland is warsaw\n",
      "the capital of australia is vienna\n"
     ]
    }
   ],
   "source": [
    "#Loop over dictionary\n",
    "\n",
    "# Definition of dictionary\n",
    "europe = {'spain':'madrid', 'france':'paris', 'germany':'bonn', \n",
    "          'norway':'oslo', 'italy':'rome', 'poland':'warsaw', 'australia':'vienna' }\n",
    "          \n",
    "# Iterate over europe\n",
    "for key, value in europe.items() :\n",
    "     print(\"the capital of \" + str(key) + \" is \" + str(value))"
   ]
  },
  {
   "cell_type": "code",
   "execution_count": 10,
   "metadata": {},
   "outputs": [
    {
     "ename": "NameError",
     "evalue": "name 'np_height' is not defined",
     "output_type": "error",
     "traceback": [
      "\u001b[0;31m---------------------------------------------------------------------------\u001b[0m",
      "\u001b[0;31mNameError\u001b[0m                                 Traceback (most recent call last)",
      "\u001b[0;32m<ipython-input-10-1e22e027aaa9>\u001b[0m in \u001b[0;36m<module>\u001b[0;34m\u001b[0m\n\u001b[1;32m      5\u001b[0m \u001b[0;34m\u001b[0m\u001b[0m\n\u001b[1;32m      6\u001b[0m \u001b[0;31m# For loop over np_height\u001b[0m\u001b[0;34m\u001b[0m\u001b[0;34m\u001b[0m\u001b[0;34m\u001b[0m\u001b[0m\n\u001b[0;32m----> 7\u001b[0;31m \u001b[0;32mfor\u001b[0m \u001b[0mx\u001b[0m \u001b[0;32min\u001b[0m \u001b[0mnp_height\u001b[0m \u001b[0;34m:\u001b[0m\u001b[0;34m\u001b[0m\u001b[0;34m\u001b[0m\u001b[0m\n\u001b[0m\u001b[1;32m      8\u001b[0m     \u001b[0mprint\u001b[0m\u001b[0;34m(\u001b[0m\u001b[0mstr\u001b[0m\u001b[0;34m(\u001b[0m\u001b[0mx\u001b[0m\u001b[0;34m)\u001b[0m \u001b[0;34m+\u001b[0m \u001b[0;34m\" inches\"\u001b[0m\u001b[0;34m)\u001b[0m\u001b[0;34m\u001b[0m\u001b[0;34m\u001b[0m\u001b[0m\n\u001b[1;32m      9\u001b[0m \u001b[0;34m\u001b[0m\u001b[0m\n",
      "\u001b[0;31mNameError\u001b[0m: name 'np_height' is not defined"
     ]
    }
   ],
   "source": [
    "#Loop over Numpy array\n",
    "\n",
    "# Import numpy as np\n",
    "import numpy as np\n",
    "\n",
    "# For loop over np_height\n",
    "for x in np_height :\n",
    "    print(str(x) + \" inches\")\n",
    "\n",
    "# For loop over np_baseball\n",
    "for x in np.nditer(np_baseball) :\n",
    "    print(x)"
   ]
  },
  {
   "cell_type": "code",
   "execution_count": 11,
   "metadata": {},
   "outputs": [
    {
     "name": "stdout",
     "output_type": "stream",
     "text": [
      "US\n",
      "cars_per_cap              809\n",
      "country         United States\n",
      "drives_right             True\n",
      "Name: US, dtype: object\n",
      "AUS\n",
      "cars_per_cap          731\n",
      "country         Australia\n",
      "drives_right        False\n",
      "Name: AUS, dtype: object\n",
      "JAP\n",
      "cars_per_cap      588\n",
      "country         Japan\n",
      "drives_right    False\n",
      "Name: JAP, dtype: object\n",
      "IN\n",
      "cars_per_cap       18\n",
      "country         India\n",
      "drives_right    False\n",
      "Name: IN, dtype: object\n",
      "RU\n",
      "cars_per_cap       200\n",
      "country         Russia\n",
      "drives_right      True\n",
      "Name: RU, dtype: object\n",
      "MOR\n",
      "cars_per_cap         70\n",
      "country         Morocco\n",
      "drives_right       True\n",
      "Name: MOR, dtype: object\n",
      "EG\n",
      "cars_per_cap       45\n",
      "country         Egypt\n",
      "drives_right     True\n",
      "Name: EG, dtype: object\n"
     ]
    }
   ],
   "source": [
    "#Loop over DataFrame (1)\n",
    "\n",
    "# Import cars data\n",
    "import pandas as pd\n",
    "cars = pd.read_csv('/Users/florentfettu/Documents/2ème cycle HEC/Datacamp/Python/Courses/Intermediate Python for Data Science /Datasets/cars.csv', index_col = 0)\n",
    "\n",
    "# Iterate over rows of cars\n",
    "for lab, row in cars.iterrows() :\n",
    "    print(lab)\n",
    "    print(row)"
   ]
  },
  {
   "cell_type": "code",
   "execution_count": 12,
   "metadata": {},
   "outputs": [
    {
     "name": "stdout",
     "output_type": "stream",
     "text": [
      "US: 809\n",
      "AUS: 731\n",
      "JAP: 588\n",
      "IN: 18\n",
      "RU: 200\n",
      "MOR: 70\n",
      "EG: 45\n"
     ]
    }
   ],
   "source": [
    "#Loop over DataFrame (2)\n",
    "\n",
    "# Import cars data\n",
    "import pandas as pd\n",
    "cars = pd.read_csv('/Users/florentfettu/Documents/2ème cycle HEC/Datacamp/Python/Courses/Intermediate Python for Data Science /Datasets/cars.csv', index_col = 0)\n",
    "\n",
    "# Adapt for loop\n",
    "for lab, row in cars.iterrows() :\n",
    "    print(lab + \": \" + str(row['cars_per_cap']))"
   ]
  },
  {
   "cell_type": "code",
   "execution_count": 13,
   "metadata": {},
   "outputs": [
    {
     "name": "stdout",
     "output_type": "stream",
     "text": [
      "     cars_per_cap        country  drives_right        COUNTRY\n",
      "US            809  United States          True  UNITED STATES\n",
      "AUS           731      Australia         False      AUSTRALIA\n",
      "JAP           588          Japan         False          JAPAN\n",
      "IN             18          India         False          INDIA\n",
      "RU            200         Russia          True         RUSSIA\n",
      "MOR            70        Morocco          True        MOROCCO\n",
      "EG             45          Egypt          True          EGYPT\n"
     ]
    }
   ],
   "source": [
    "#Add column (1)\n",
    "\n",
    "# Import cars data\n",
    "import pandas as pd\n",
    "cars = pd.read_csv('/Users/florentfettu/Documents/2ème cycle HEC/Datacamp/Python/Courses/Intermediate Python for Data Science /Datasets/cars.csv', index_col = 0)\n",
    "\n",
    "# Code for loop that adds COUNTRY column\n",
    "for lab, row in cars.iterrows() :\n",
    "    cars.loc[lab, \"COUNTRY\"] = row[\"country\"].upper()\n",
    "    \n",
    "# Print cars\n",
    "print(cars)"
   ]
  },
  {
   "cell_type": "code",
   "execution_count": 15,
   "metadata": {},
   "outputs": [
    {
     "name": "stdout",
     "output_type": "stream",
     "text": [
      "     cars_per_cap        country  drives_right        COUNTRY\n",
      "US            809  United States          True  UNITED STATES\n",
      "AUS           731      Australia         False      AUSTRALIA\n",
      "JAP           588          Japan         False          JAPAN\n",
      "IN             18          India         False          INDIA\n",
      "RU            200         Russia          True         RUSSIA\n",
      "MOR            70        Morocco          True        MOROCCO\n",
      "EG             45          Egypt          True          EGYPT\n"
     ]
    }
   ],
   "source": [
    "#Add column (2)\n",
    "\n",
    "# Import cars data\n",
    "import pandas as pd\n",
    "cars = pd.read_csv('/Users/florentfettu/Documents/2ème cycle HEC/Datacamp/Python/Courses/Intermediate Python for Data Science /Datasets/cars.csv', index_col = 0)\n",
    "\n",
    "# Use .apply(str.upper)\n",
    "cars[\"COUNTRY\"] = cars[\"country\"].apply(str.upper)\n",
    "\n",
    "# Print cars\n",
    "print(cars)"
   ]
  },
  {
   "cell_type": "code",
   "execution_count": null,
   "metadata": {},
   "outputs": [],
   "source": []
  }
 ],
 "metadata": {
  "kernelspec": {
   "display_name": "Python 3",
   "language": "python",
   "name": "python3"
  },
  "language_info": {
   "codemirror_mode": {
    "name": "ipython",
    "version": 3
   },
   "file_extension": ".py",
   "mimetype": "text/x-python",
   "name": "python",
   "nbconvert_exporter": "python",
   "pygments_lexer": "ipython3",
   "version": "3.7.3"
  }
 },
 "nbformat": 4,
 "nbformat_minor": 2
}
